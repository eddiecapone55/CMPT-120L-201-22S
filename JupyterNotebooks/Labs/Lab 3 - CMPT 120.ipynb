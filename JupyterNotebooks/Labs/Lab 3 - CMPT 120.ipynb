{
 "cells": [
  {
   "cell_type": "markdown",
   "metadata": {},
   "source": [
    "# Lab Two\n",
    "---\n",
    "\n",
    "For this lab we're going to get into logic\n",
    "\n",
    "Our Goals are:\n",
    "- Using Conditionals\n",
    "- Using Loops\n",
    "- Creating a Function\n",
    "- Using a Class"
   ]
  },
  {
   "cell_type": "code",
   "execution_count": 16,
   "metadata": {},
   "outputs": [
    {
     "name": "stdout",
     "output_type": "stream",
     "text": [
      "I can go play lacrosse.\n"
     ]
    }
   ],
   "source": [
    "# Create an if statement\n",
    "has_lacrosse_equipment = True\n",
    "if has_lacrosse_equipment:\n",
    "    print(\"I can go play lacrosse.\")"
   ]
  },
  {
   "cell_type": "code",
   "execution_count": 59,
   "metadata": {},
   "outputs": [
    {
     "name": "stdout",
     "output_type": "stream",
     "text": [
      "I can't play lacrosse because I don't have my equipment.\n"
     ]
    }
   ],
   "source": [
    "# Create an if else statement\n",
    "has_lacrosse_equipment = True\n",
    "is_free = False\n",
    "if has_lacrosse_equipment and is_free:\n",
    "    print(\"I can go play lacrosse.\")\n",
    "else:\n",
    "    print(\"I can't play lacrosse because I don't have my equipment.\")\n"
   ]
  },
  {
   "cell_type": "code",
   "execution_count": 4,
   "metadata": {},
   "outputs": [
    {
     "name": "stdout",
     "output_type": "stream",
     "text": [
      "I can't play lacrosse because I have other plans\n"
     ]
    }
   ],
   "source": [
    "# Create an if elif else statement\n",
    "has_lacrosse_equipment = True\n",
    "is_free = False\n",
    "has_other_plans = True\n",
    "if has_lacrosse_equipment and is_free:\n",
    "    print(\"I can go play lacrosse because the scenario was true.\")\n",
    "elif has_lacrosse_equipment and has_other_plans:\n",
    "    print(\"I can't play lacrosse because I have other plans\")\n",
    "else:\n",
    "    print(\"I can't play lacrosse because I don't have my equipment.\")"
   ]
  },
  {
   "cell_type": "code",
   "execution_count": 5,
   "metadata": {},
   "outputs": [
    {
     "name": "stdout",
     "output_type": "stream",
     "text": [
      "0\n",
      "1\n",
      "2\n",
      "3\n",
      "4\n",
      "5\n",
      "6\n",
      "7\n",
      "8\n",
      "9\n"
     ]
    }
   ],
   "source": [
    "# Create a for loop using range(). Go from 0 to 9. Print out each number.\n",
    "numbers = [\"0\",\"1\", \"2\", \"3\", \"4\", \"5\", \"6\", \"7\", \"8\", \"9\"]\n",
    "\n",
    "for item in numbers:\n",
    "    print(item)"
   ]
  },
  {
   "cell_type": "code",
   "execution_count": 57,
   "metadata": {},
   "outputs": [
    {
     "name": "stdout",
     "output_type": "stream",
     "text": [
      "Blue\n",
      "Yellow\n",
      "Red\n",
      "Green\n",
      "Purple\n",
      "Magenta\n",
      "Lilac\n",
      "Blue\n",
      "0\n",
      "Yellow\n",
      "1\n",
      "Red\n",
      "2\n",
      "Green\n",
      "3\n",
      "Purple\n",
      "4\n",
      "Magenta\n",
      "5\n",
      "Lilac\n",
      "6\n"
     ]
    }
   ],
   "source": [
    "# Create a for loop iterating through this list and printing out the value.\n",
    "arr = ['Blue', 'Yellow', 'Red', 'Green', 'Purple', 'Magenta', 'Lilac']\n",
    "for item in arr:\n",
    "    print(item)\n",
    "# Get the length of the list above and print it.\n",
    "for value in range(7):\n",
    "    print(arr[value])\n",
    "    print(value)\n"
   ]
  },
  {
   "cell_type": "code",
   "execution_count": 40,
   "metadata": {},
   "outputs": [
    {
     "name": "stdout",
     "output_type": "stream",
     "text": [
      "5\n",
      "4\n",
      "3\n",
      "2\n",
      "1\n",
      "0\n",
      "Loop ended.\n"
     ]
    }
   ],
   "source": [
    "# Create a while loop that ends after 6 times through. Print something for each pass.\n",
    "x = 6\n",
    "\n",
    "while x > 0:\n",
    "    x -= 1\n",
    "    if x == 6:\n",
    "        break\n",
    "    print(x)\n",
    "print(\"Loop ended.\")\n"
   ]
  },
  {
   "cell_type": "code",
   "execution_count": 47,
   "metadata": {
    "tags": []
   },
   "outputs": [
    {
     "name": "stdout",
     "output_type": "stream",
     "text": [
      "23\n"
     ]
    }
   ],
   "source": [
    "# Create a function to add 2 numbers together. Print out the number\n",
    "def addition(input1, input2):\n",
    "    sum = input1 + input2\n",
    "    print(input1 + input2)\n",
    "addition(16, 7)\n"
   ]
  },
  {
   "cell_type": "code",
   "execution_count": 70,
   "metadata": {},
   "outputs": [
    {
     "name": "stdout",
     "output_type": "stream",
     "text": [
      "23 is Odd\n"
     ]
    }
   ],
   "source": [
    "# Create a function that tells you if a number is odd or even and print the result.\n",
    "num = int(input(\"Enter a number: \"))\n",
    "if (num % 2) == 0:\n",
    "    print(\"{0} is Even\".format(num))\n",
    "else:\n",
    "    print(\"{0} is Odd\".format(num))"
   ]
  },
  {
   "cell_type": "code",
   "execution_count": 67,
   "metadata": {
    "tags": []
   },
   "outputs": [
    {
     "name": "stdout",
     "output_type": "stream",
     "text": [
      "Name: Sophie Capone\n",
      "Weight: 15 pounds\n",
      "Height: 13 inches\n",
      "Breed: Yorkiepoo\n"
     ]
    }
   ],
   "source": [
    "# Initialize an instance of the following class. Use a variable to store the object and then call the info function to print out the attributes.\n",
    "class Dog(object):\n",
    "    def __init__(self, name, height, weight, breed):\n",
    "        self.name = name\n",
    "        self.height = height\n",
    "        self.weight = weight\n",
    "        self.breed = breed\n",
    "\n",
    "    def info(self):\n",
    "        print(\"Name:\", self.name)\n",
    "        print(\"Weight:\", str(self.weight) + \" pounds\")\n",
    "        print(\"Height:\", str(self.height) + \" inches\")\n",
    "        print(\"Breed:\", self.breed)\n",
    "\n",
    "if __name__ == \"__main__\":\n",
    "    Soph = Dog(\"Sophie Capone\", 13, 15, \"Yorkiepoo\")\n",
    "    Soph.info()"
   ]
  }
 ],
 "metadata": {
  "interpreter": {
   "hash": "b5b102f71a641b12fcbeba24f984ddf7cbec127a1e695107afb1c30d22d8cd55"
  },
  "kernelspec": {
   "display_name": "Python 3.8.5 64-bit",
   "language": "python",
   "name": "python3"
  },
  "language_info": {
   "codemirror_mode": {
    "name": "ipython",
    "version": 3
   },
   "file_extension": ".py",
   "mimetype": "text/x-python",
   "name": "python",
   "nbconvert_exporter": "python",
   "pygments_lexer": "ipython3",
   "version": "3.9.7"
  },
  "orig_nbformat": 2
 },
 "nbformat": 4,
 "nbformat_minor": 2
}
